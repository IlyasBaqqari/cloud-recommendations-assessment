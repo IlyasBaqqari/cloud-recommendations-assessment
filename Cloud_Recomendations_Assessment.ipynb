{
  "nbformat": 4,
  "nbformat_minor": 0,
  "metadata": {
    "colab": {
      "provenance": [],
      "authorship_tag": "ABX9TyO1X7bry43NWXl63eaTtnlu",
      "include_colab_link": true
    },
    "kernelspec": {
      "name": "python3",
      "display_name": "Python 3"
    },
    "language_info": {
      "name": "python"
    }
  },
  "cells": [
    {
      "cell_type": "markdown",
      "metadata": {
        "id": "view-in-github",
        "colab_type": "text"
      },
      "source": [
        "<a href=\"https://colab.research.google.com/github/IlyasBaqqari/cloud-recommendations-assessment/blob/main/Cloud_Recomendations_Assessment.ipynb\" target=\"_parent\"><img src=\"https://colab.research.google.com/assets/colab-badge.svg\" alt=\"Open In Colab\"/></a>"
      ]
    },
    {
      "cell_type": "markdown",
      "source": [
        "> # Introduction\n",
        "\n",
        "Learn Tech On Demand (LTOD) is a video streaming company that offers educational content covering various topics in the field of technology. LTOD aims to leverage cloud computing to meet their business requirements, including online video streaming, content management, and user account management.\n",
        "\n",
        "One benefit cloud computing can bring to LTOD is scalability. This is the ability to flexibly scale provisioned resources up or down, allowing for smooth functionality during peak times, and cost savings at quieter times. \n",
        "\n",
        "However, LTOD must also consider the potential issues of cloud computing, such as inherent latency. This means users located far from the nearest cloud server may experience longer load times and a less smooth overall experience."
      ],
      "metadata": {
        "id": "zq_32Ng5hWny"
      }
    },
    {
      "cell_type": "markdown",
      "source": [
        "> # Cloud Recommendations\n",
        "\n",
        "As part of their cloud adoption, LTOD must make choices in several key areas:\n",
        "\n",
        "* Cloud service model\n",
        "* Cloud deployment model type\n",
        "* Cloud patterns\n",
        "* Cloud services"
      ],
      "metadata": {
        "id": "1m4g32tItbFP"
      }
    },
    {
      "cell_type": "markdown",
      "source": [
        "## Cloud Service Model\n",
        "\n",
        "The cloud service model I would recommend is Platform-as-a-Service (PaaS). Often used by web applications developed in-house, this model features a virtualised application server environment for application deployment, managing load balancing, monitoring, provisioning, and scaling automatically. PaaS would fit LTOD well as their only responsibilities would be the application and its data, negating infrastructure setup and maintenance costs."
      ],
      "metadata": {
        "id": "K8AO74Og___a"
      }
    },
    {
      "cell_type": "markdown",
      "source": [
        "## Cloud Deployment Model Type\n",
        "\n",
        "I would recommend the public cloud deployment model type. This deployment model involves a cloud service provider offering storage, resources, and cloud services for lease to anyone. Public cloud would be a good choice as it offers high scalability, and is less complex compared to other deployment types, helping LTOD better meet their business needs."
      ],
      "metadata": {
        "id": "TQsDugwdAAC3"
      }
    },
    {
      "cell_type": "markdown",
      "source": [
        "## Cloud Patterns\n",
        "\n",
        "From the many cloud patterns LTOD could adopt, the one I would recommend most is federated identity. This involves authenticating users through an external identity provider, allowing them to sign-up using their existing accounts - usually through Google or Facebook. This would benefit LTOD as it would improve and simplify the user experience, whilst also increasing security."
      ],
      "metadata": {
        "id": "rBA4Zo9AAAHD"
      }
    },
    {
      "cell_type": "markdown",
      "source": [
        "## Cloud Services\n",
        "\n",
        "One cloud service I would recommend from the many available is a relational database service (RDS). This is an SQL database hosted on the cloud - often used to store user data - that offers scaling, backups, and high throughput. An RDS would be a good fit for LTOD as it would help them meet their business requirements whilst also offering many benefits useful to a video streaming company."
      ],
      "metadata": {
        "id": "ZG3GEreTAALN"
      }
    },
    {
      "cell_type": "markdown",
      "source": [
        "> # Data Analytics\n",
        "\n",
        "Data visualisations and analytics are powerful business tools. Visualisations provide readable representations of data, which can be analysed to identify trends and inform decision-making. LTOD can benefit from analysing user activity data, which can be visualised using histograms, scatter plots, or other means."
      ],
      "metadata": {
        "id": "yetQlrhVAWCb"
      }
    },
    {
      "cell_type": "markdown",
      "source": [
        "## Viewer Retention\n",
        "\n",
        "To better understand what content interests their viewers, LTOD may wish to analyse viewer retention. This is a metric which tracks how much of a video viewers watch. Higher viewer retention indicates a video is more interesting, while low retention indicates viewers are not engaged by the video.\n",
        "\n",
        "LTOD could use histograms to analyse this metric. Histograms plot bars along an axis representing a range of values, giving height to the bars based on the frequency of those values. This makes them ideal for analysing viewer retention, as they make it easy to visualise spikes and drops in watch time.\n",
        "\n",
        "Let's demonstrate using example data representing two video courses."
      ],
      "metadata": {
        "id": "hKndAH_ckChr"
      }
    },
    {
      "cell_type": "code",
      "source": [
        "# Import external packages\n",
        "import matplotlib.pyplot as plt\n",
        "\n",
        "# Initialise sample data arrays\n",
        "python_watch_time = [98,86,81,93,95,99,21,100,100,84,39,69,86,41,77,94,95,6,99,100,81,66,27,97,96,92,99,77,96,88,94,88,6,77,99,92,98,62,90,97,94,90,92,95,89,93,100,98,95,98,49,97,90,95,95,65,66,91,99,95,99,50,78,91,98,91,25,76,79,100,20,93,84,96,94,88,98,94,96,93,97,95,90,97,100,58,89,88,75,21,97,91,92,77,91,97,83,75,79,94,83,31,87,13,6,75,26,91,85,85,87,98,96,95,76,90,5,57,14,95,94,25,92,100,97,98,91,84,98,100,93,80,99,92,50,97,28,79,100,91,99,99,92,86,97,70,83,98,91,94,91,85,97,91,47,94,90,75,55,96,92,85,88,99,98,92,91,97,83,92,94,98,83,97,51,100,95,100,97,90,41,97,86,79,92,97,79,85,95,94,82,81,76,97,92,78,97,59,99,92,96,56,99,97,75,94,9,94,21,93,34,91,80,90,82,78,98,98,95,80,93,100,94,85,95,42,100,99,92,96,90,90,83,95,98,14,13,97,77,94,97,83,99,77,96,95,86,100,88,87,72,100,94,91,79,98,92,72,100,52,88,79,92,70,96,76,93,96,99,93,90,99,99,32,97,82,93,8,95,97,97,92,94,96,100,93,95,52,77,100,86,78,66,75,47,79,22,91,99,91,97,97,77,90,84,91,91,83,84,24,86,96,95,97,97,93,84,95,16,99,87,91,92,99,92,92,91,78,73,93,82,98,96,94,98,94,85,78,26,21,93,99,97,93,92,97,97,90,82,97,92,92,81,94,96,97,79,21,100,91,82,78,85,95,92,76,96,94,83,99,95,72,91,81,95,90,95,93,94,100,65,87,100,98,31,100,89,91,89,97,85,55,92,46,6,100,94,94,73,93,97,100,98,81,78,70,87,67,87,95,100,75,98,90,98,92,99,77,97,5,98,100,85,100,88,90,97,99,36,79,90,98,92,96,99,97,95,96,90,92,97,53,92,90,75,97,94,89,50,89,75,99,99,85,99,98,89,95,90,66,85,98,85,93,98,25,57,95,96,31,96,93,98,85,91,93,99,42,93,60,88,79,22,90,87,45,95,90,90,92,97,98,35,18,91,83,95,91,41,35,16,85,93,24,92,81,91,81,98,93,78,88,88,90,93,100,100,83,99,90,77,98,92,92,46,78,79,84,64,94,95,85,85,93,98,78,98,81,76,100,93,91,90,98,95,95,94,99,87,93,59,95,84,93,99,97,95,90,85,25,84,90,99,94,78,77,98,95,90,84,90,98,5,76,97,99,93,93,97,82,95,75,91,95,96,99,100,95,88,81,83,94,25,97,83,95,100,86,32,91,95,98,8,97,98,84,96,100,95,94,37,81,98,81,87,89,99,93,89,90,63,92,97,99,15,94,100,46,87,98,96,68,98,93,89,12,97,18,100,30,37,91,81,98,100,94,82,91,78,82,96,80,99,78,96,43,98,62,98,92,97,14,90,14,77,75,92,98,93,76,98,77,98,93,93,96,90,89,92,76,95,68,95,96,82,79,94,98,60,100,100,92,91,82,93,94,37,81,68,82,97,92,77,98,93,89,60,95,100,83,94,100,83,47,97,92,93,90,100,94,75,95,23,90,35,79,93,98,95,90,100,95,84,90,92,91,96,20,8,63,98,82,88,91,98,81,99,99,99,99,97,42,61,97,85,93,100,90,95,91,94,94,94,94,99,48,36,91,90,84,38,87,76,98,99,48,94,92,87,87,97,91,95,92,91,50,96,99,99,60,95,92,84,79,74,65,93,99,61,85,77,100,29,61,67,18,94,100,98,99,9,32,50,88,49,88,98,75,90,95,97,90,88,79,94,96,98,100,97,94,94,97,80,94,78,97,98,61,98,95,96,98,100,80,98,91,95,95,88,40,80,81,78,81,75,91,76,99,46,96,100,97,94,85,97,98,99,99,91,97,99,100,81,97,88,93,91,91,95,95,46,30,97,97,32,100,96,90,92,98,87,96,92,98,91,86,91,95,91,90,91,99,100,78,94,14,82,71,88,96,80,90,94,30,66,43,82,100,95,76,76,57,96,76,100,28,93,77,95,92,98,99,87,58,91,95,95,94,81,95,99,97,80,57,85,93,98,90,99,99,89,52,93,98,79,94,95,91,78,79,90,90,96,77,94,77,99,99,96,93,92,97,90,85,100,93,83,98,97,89,94,87,88,92,5,87,88,96,75,98,90,87,92,100,82,93,77,97,94,93]\n",
        "sql_watch_time = [87,48,80,68,58,51,100,65,53,56,58,50,70,66,58,64,73,59,69,56,69,52,56,55,87,10,54,57,53,82,52,57,53,59,22,75,79,75,58,51,50,68,64,59,62,58,57,76,53,71,79,63,75,82,54,6,52,60,53,59,51,67,56,56,50,83,69,97,61,50,86,66,66,57,56,64,80,65,70,66,69,61,95,96,70,76,64,58,60,62,84,69,90,48,90,40,58,53,57,32,79,66,99,63,54,50,69,63,67,86,92,75,64,54,57,36,66,80,60,64,96,67,63,54,50,50,84,70,53,61,77,85,66,69,51,57,50,59,70,59,92,79,65,52,56,68,65,72,62,67,92,58,51,54,59,72,55,60,38,78,94,63,85,85,85,58,51,81,58,53,68,32,68,97,78,53,50,50,62,81,51,69,69,80,80,65,50,70,78,59,58,60,38,97,57,84,51,85,65,58,79,57,50,65,53,64,79,70,64,65,63,89,51,93,68,57,95,54,58,63,60,69,51,19,84,78,63,57,81,68,60,52,58,58,58,57,89,68,61,60,59,53,67,71,55,57,70,97,70,60,51,87,89,59,38,79,74,68,69,84,59,60,68,70,65,68,53,83,54,100,64,64,67,85,72,63,67,82,59,83,60,68,51,64,63,91,85,70,97,18,50,70,62,91,68,43,51,96,90,99,51,65,94,68,58,67,93,81,70,70,56,55,53,80,61,61,59,68,17,53,43,70,56,79,59,37,70,67,66,56,62,62,55,100,68,59,68,60,53,80,58,81,57,28,60,66,60,54,60,29,92,89,15,57,56,56,59,64,61,71,66,44,89,91,70,71,93,56,55,91,86,58,77,75,12,68,59,66,80,83,56,54,59,18,48,65,54,70,62,57,50,70,50,44,54,54,56,56,83,64,77,65,62,36,98,62,62,55,56,58,89,65,100,51,56,12,9,78,53,80,92,91,96,63,50,58,85,32,50,83,79,63,58,92,52,81,99,92,65,66,56,55,53,66,98,69,79,78,63,50,92,66,72,53,60,69,69,39,7,87,59,51,84,14,50,86,57,95,66,35,58,73,62,81,56,51,56,53,71,85,67,57,62,60,41,66,40,59,78,60,52,48,63,63,53,56,66,64,82,82,66,60,69,71,60,53,61,52,57,50,51,68,64,61,59,54,58,57,55,58,88,64,62,87,55,66,48,100,71,65,62,98,83,92,51,63,57,62,50,61,99,96,50,98,61,89,32,55,93,70,54,65,60,83,67,22,95,54,51,52,72,13,70,89,55,51,62,71,54,57,73,63,10,62,58,62,53,71,34,65,63,73,81,61,95,75,32,100,78,68,86,56,67,73,56,95,53,50,57,81,60,67,70,89,69,56,66,93,99,79,50,91,59,58,60,55,61,54,89,78,59,62,58,67,57,93,55,69,43,68,73,98,85,66,55,76,98,90,85,56,66,60,88,60,56,82,51,54,34,16,63,72,78,69,68,60,98,75,50,55,71,31,95,61,98,61,50,71,56,58,67,59,99,5,73,42,97,55,61,73,51,58,57,56,87,69,84,55,54,17,41,86,67,52,26,74,70,59,59,97,60,99,64,35,77,62,60,71,100,63,51,65,69,59,68,69,15,74,61,58,92,52,58,67,50,60,88,55,91,68,71,53,66,67,69,56,57,61,80,67,75,68,69,84,96,26,15,68,69,53,57,89,67,60,73,85,34,50,64,100,77,75,62,61,58,55,53,67,60,98,83,87,70,62,14,100,48,53,94,59,94,61,52,55,81,64,67,57,65,61,77,64,91,78,71,62,65,94,11,66,91,80,10,76,51,71,57,50,66,59,99,67,57,80,56,76,43,65,16,70,59,75,55,70,64,69,52,51,82,53,65,83,55,67,53,66,67,54,88,59,55,20,80,67,54,55,76,32,95,70,87,67,61,75,82,75,58,63,78,57,66,60,98,60,67,82,76,100,78,53,82,58,80,67,64,56,52,56,62,74,34,69,62,66,65,52,50,68,83,64,99,85,86,87,50,50,99,63,89,56,54,59,70,65,60,58,81,22,56,25,99,65,61,72,56,61,50,87,65,66,75,51,30,58,62,70,98,76,68,14,55,59,46,65,86,56,57,86,52,28,65,63,68,72,51,46,59,63,67,62,73,63,52,53,66,92,97,63,59,79,53,97,90,72,68,62,53,63,86,17,98,66,85,50,77,96,89,85,63,67,91,100,11,58,98,47,55,60,52,55,52,79,64,60,68,70,72,70,64,81]\n",
        "\n",
        "# Plot the Python histogram\n",
        "plt.hist(python_watch_time, bins=25, color='#0077f7')\n",
        "plt.grid(axis='y', alpha=0.5)\n",
        "plt.xlabel('Watch Time (%)')\n",
        "plt.ylabel('Viewers')\n",
        "plt.title('Introduction to Python: Viewer Retention')\n",
        "plt.show()\n",
        "\n",
        "# Plot the SQL histogram\n",
        "plt.hist(sql_watch_time, bins=25, color='#0077f7')\n",
        "plt.grid(axis='y', alpha=0.5)\n",
        "plt.xlabel('Watch Time (%)')\n",
        "plt.ylabel('Viewers')\n",
        "plt.title('SQL Introduction: Viewer Retention')\n",
        "plt.show()"
      ],
      "metadata": {
        "id": "Dip8PqI5ayTr",
        "colab": {
          "base_uri": "https://localhost:8080/",
          "height": 573
        },
        "outputId": "72b25bbe-dd03-4f7d-d463-cf9b5472883c"
      },
      "execution_count": null,
      "outputs": [
        {
          "output_type": "display_data",
          "data": {
            "text/plain": [
              "<Figure size 432x288 with 1 Axes>"
            ],
            "image/png": "[encoded data removed]"
          },
          "metadata": {
            "needs_background": "light"
          }
        },
        {
          "output_type": "display_data",
          "data": {
            "text/plain": [
              "<Figure size 432x288 with 1 Axes>"
            ],
            "image/png": "[encoded data removed]"
          },
          "metadata": {
            "needs_background": "light"
          }
        }
      ]
    },
    {
      "cell_type": "markdown",
      "source": [
        "From these histograms, we can see most viewers tended to watch through the entire Python course, while most viewers only watched 50% to 70% of the SQL course. This analysis is useful to LTOD as it highlights the potential benefit creating more Python related content could bring, whilst also highlighting the need to improve SQL content."
      ],
      "metadata": {
        "id": "Hv_sWsDncx2N"
      }
    },
    {
      "cell_type": "markdown",
      "source": [
        "> # Conclusion\n",
        "\n",
        "The adoption of cloud computing can bring numerous benefits to companies like LTOD, including scalability, cost savings, and improved stability. However, they must also acknowledge potential issues cloud computing may present such as inherent latency. By making the right choices in their cloud adoption, and leveraging data analytics, LTOD can optimise their business and improve the service they provide, allowing them to further expand and grow as an organisation."
      ],
      "metadata": {
        "id": "cPNyEwR14I_x"
      }
    }
  ]
}